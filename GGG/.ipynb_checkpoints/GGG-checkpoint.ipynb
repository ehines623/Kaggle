{
 "metadata": {
  "name": "",
  "signature": "sha256:5fe00a985a2654c768d4ca21bb46b6c12e82ddcb7bd81636efa5125f840b4b0b"
 },
 "nbformat": 3,
 "nbformat_minor": 0,
 "worksheets": []
}